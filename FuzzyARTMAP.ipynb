{
 "cells": [
  {
   "cell_type": "code",
   "execution_count": 141,
   "metadata": {},
   "outputs": [],
   "source": [
    "import numpy as np\n",
    "import pandas as pd\n",
    "import matplotlib.pyplot as plt\n",
    "%matplotlib inline"
   ]
  },
  {
   "cell_type": "code",
   "execution_count": 37,
   "metadata": {},
   "outputs": [
    {
     "data": {
      "text/plain": [
       "array([[0.5],\n",
       "       [1.5],\n",
       "       [3. ],\n",
       "       [4. ]])"
      ]
     },
     "execution_count": 37,
     "metadata": {},
     "output_type": "execute_result"
    }
   ],
   "source": [
    "test = np.array([[1,2,3,4]]).T\n",
    "test2 = np.array([[.5,1.5,3.5,4.1]]).T\n",
    "t = np.hstack((test,test2))\n",
    "np.minimum(test, test2)"
   ]
  },
  {
   "cell_type": "code",
   "execution_count": 38,
   "metadata": {},
   "outputs": [
    {
     "data": {
      "text/plain": [
       "array([[1. , 0.5],\n",
       "       [2. , 1.5],\n",
       "       [3. , 3.5],\n",
       "       [4. , 4.1]])"
      ]
     },
     "execution_count": 38,
     "metadata": {},
     "output_type": "execute_result"
    }
   ],
   "source": [
    "t"
   ]
  },
  {
   "cell_type": "code",
   "execution_count": 40,
   "metadata": {},
   "outputs": [
    {
     "data": {
      "text/html": [
       "<div>\n",
       "<style scoped>\n",
       "    .dataframe tbody tr th:only-of-type {\n",
       "        vertical-align: middle;\n",
       "    }\n",
       "\n",
       "    .dataframe tbody tr th {\n",
       "        vertical-align: top;\n",
       "    }\n",
       "\n",
       "    .dataframe thead th {\n",
       "        text-align: right;\n",
       "    }\n",
       "</style>\n",
       "<table border=\"1\" class=\"dataframe\">\n",
       "  <thead>\n",
       "    <tr style=\"text-align: right;\">\n",
       "      <th></th>\n",
       "      <th>W0</th>\n",
       "      <th>W1</th>\n",
       "    </tr>\n",
       "  </thead>\n",
       "  <tbody>\n",
       "    <tr>\n",
       "      <th>0</th>\n",
       "      <td>1.0</td>\n",
       "      <td>0.5</td>\n",
       "    </tr>\n",
       "    <tr>\n",
       "      <th>1</th>\n",
       "      <td>2.0</td>\n",
       "      <td>1.5</td>\n",
       "    </tr>\n",
       "    <tr>\n",
       "      <th>2</th>\n",
       "      <td>3.0</td>\n",
       "      <td>3.5</td>\n",
       "    </tr>\n",
       "    <tr>\n",
       "      <th>3</th>\n",
       "      <td>4.0</td>\n",
       "      <td>4.1</td>\n",
       "    </tr>\n",
       "  </tbody>\n",
       "</table>\n",
       "</div>"
      ],
      "text/plain": [
       "    W0   W1\n",
       "0  1.0  0.5\n",
       "1  2.0  1.5\n",
       "2  3.0  3.5\n",
       "3  4.0  4.1"
      ]
     },
     "execution_count": 40,
     "metadata": {},
     "output_type": "execute_result"
    }
   ],
   "source": [
    "df = pd.DataFrame(t, columns=['W0', 'W1'])\n",
    "df"
   ]
  },
  {
   "cell_type": "code",
   "execution_count": 41,
   "metadata": {},
   "outputs": [
    {
     "data": {
      "text/plain": [
       "array([[1],\n",
       "       [1],\n",
       "       [3],\n",
       "       [1]])"
      ]
     },
     "execution_count": 41,
     "metadata": {},
     "output_type": "execute_result"
    }
   ],
   "source": [
    "test_vec = np.array([[1,1,3,1]]).T\n",
    "test_vec"
   ]
  },
  {
   "cell_type": "code",
   "execution_count": 43,
   "metadata": {},
   "outputs": [
    {
     "data": {
      "text/html": [
       "<div>\n",
       "<style scoped>\n",
       "    .dataframe tbody tr th:only-of-type {\n",
       "        vertical-align: middle;\n",
       "    }\n",
       "\n",
       "    .dataframe tbody tr th {\n",
       "        vertical-align: top;\n",
       "    }\n",
       "\n",
       "    .dataframe thead th {\n",
       "        text-align: right;\n",
       "    }\n",
       "</style>\n",
       "<table border=\"1\" class=\"dataframe\">\n",
       "  <thead>\n",
       "    <tr style=\"text-align: right;\">\n",
       "      <th></th>\n",
       "      <th>W0</th>\n",
       "      <th>W1</th>\n",
       "    </tr>\n",
       "  </thead>\n",
       "  <tbody>\n",
       "    <tr>\n",
       "      <th>0</th>\n",
       "      <td>1.0</td>\n",
       "      <td>0.5</td>\n",
       "    </tr>\n",
       "    <tr>\n",
       "      <th>1</th>\n",
       "      <td>1.0</td>\n",
       "      <td>1.0</td>\n",
       "    </tr>\n",
       "    <tr>\n",
       "      <th>2</th>\n",
       "      <td>3.0</td>\n",
       "      <td>3.0</td>\n",
       "    </tr>\n",
       "    <tr>\n",
       "      <th>3</th>\n",
       "      <td>1.0</td>\n",
       "      <td>1.0</td>\n",
       "    </tr>\n",
       "  </tbody>\n",
       "</table>\n",
       "</div>"
      ],
      "text/plain": [
       "    W0   W1\n",
       "0  1.0  0.5\n",
       "1  1.0  1.0\n",
       "2  3.0  3.0\n",
       "3  1.0  1.0"
      ]
     },
     "execution_count": 43,
     "metadata": {},
     "output_type": "execute_result"
    }
   ],
   "source": [
    "# apply fuzzy intersection element wise. \n",
    "fuzzy_int = np.minimum(test_vec,df)\n",
    "fuzzy_int = np.linalg.norm( fuzzy_int, ord=1, axis=0)"
   ]
  },
  {
   "cell_type": "code",
   "execution_count": null,
   "metadata": {},
   "outputs": [],
   "source": []
  },
  {
   "cell_type": "code",
   "execution_count": 102,
   "metadata": {},
   "outputs": [
    {
     "data": {
      "text/plain": [
       "array([10. ,  9.6])"
      ]
     },
     "execution_count": 102,
     "metadata": {},
     "output_type": "execute_result"
    }
   ],
   "source": [
    "np.linalg.norm( df, ord=1, axis=0)"
   ]
  },
  {
   "cell_type": "code",
   "execution_count": 10,
   "metadata": {},
   "outputs": [
    {
     "data": {
      "text/plain": [
       "array([[1. , 2. , 3. , 4. ],\n",
       "       [0.5, 1.5, 3. , 4. ]])"
      ]
     },
     "execution_count": 10,
     "metadata": {},
     "output_type": "execute_result"
    }
   ],
   "source": [
    "\n",
    "np.minimum(t, test)"
   ]
  },
  {
   "cell_type": "code",
   "execution_count": 13,
   "metadata": {},
   "outputs": [
    {
     "data": {
      "text/plain": [
       "array([10. ,  9.6])"
      ]
     },
     "execution_count": 13,
     "metadata": {},
     "output_type": "execute_result"
    }
   ],
   "source": [
    "np.sum(t, axis=1)"
   ]
  },
  {
   "cell_type": "code",
   "execution_count": 16,
   "metadata": {},
   "outputs": [
    {
     "data": {
      "text/plain": [
       "1"
      ]
     },
     "execution_count": 16,
     "metadata": {},
     "output_type": "execute_result"
    }
   ],
   "source": [
    "np.argmin(np.sum(np.minimum(t,test), axis=1))"
   ]
  },
  {
   "cell_type": "code",
   "execution_count": 355,
   "metadata": {},
   "outputs": [],
   "source": [
    "#l1_norm = partial(np.linalg.norm, ord=1, axis=-1)\n",
    "class FuzzyARTMAP:\n",
    "    def __init__(self,  alpha=0.01, beta=1.0, rho=0., epsilon=0.0001, complement_coding=True):\n",
    "        \"\"\"\n",
    "        alpha: matching parameter\n",
    "        beta: learning rate\n",
    "        rho: Vigilence criterion\n",
    "\n",
    "        \"\"\"\n",
    "        self.alpha = alpha\n",
    "        self.beta = beta\n",
    "        self.rho = rho\n",
    "        self.epsilon=epsilon\n",
    "        self.complement_coding= complement_coding\n",
    "        self.w = None\n",
    "        self.w_labels = {}\n",
    "        # there are no commited nodes\n",
    "        self.C= -1\n",
    "        self.M = None\n",
    "    \n",
    "    def complement_code(self, x):\n",
    "        \"\"\"Utility function for compliment coding of inputs\"\"\"\n",
    "        if self.complement_coding:\n",
    "            return np.vstack((x, 1-x))\n",
    "        else:\n",
    "            return x\n",
    "        \n",
    "    def add_category(self,x, y_label):\n",
    "        \"\"\"Adds an additional weight vectot w of class y \"\"\"# \n",
    "        # use the weight as the examplar \n",
    "        self.C +=1\n",
    "        \n",
    "        self.w[\"W{}\".format(self.C)]  =  x\n",
    "        # save category label \n",
    "        self.w_labels[\"W{}\".format(self.C)] = np.squeeze(y_label)\n",
    "        \n",
    "    def match_choice(self, x):\n",
    "        norm_w =  np.linalg.norm( self.w, ord=1, axis=0)\n",
    "        fuzzy_int = np.minimum(x,self.w)\n",
    "        fuzzy_int = np.linalg.norm( fuzzy_int, ord=1, axis=0)\n",
    "        # all values of T_j for j=1,...,C\n",
    "        T_js = fuzzy_int + (1 - self.alpha)*(self.M * norm_w)\n",
    "        vig = fuzzy_int >= self.M * self.rho\n",
    "        indicies = sorted(range(len(T_js)), key=lambda k: T_js[k], reverse=True)\n",
    "        return T_js, vig, indicies, fuzzy_int, norm_w\n",
    "                          \n",
    "                          \n",
    "    \n",
    "    \n",
    "    def train(self, X, y, epochs = 1):\n",
    "        \"\"\"number of examples x number of features\"\"\"\n",
    "        # initialize first weight \n",
    "        self.C = 0\n",
    "        x_init = self.complement_code(X[:,0].reshape(-1,1))\n",
    "        self.M = np.squeeze(X.shape[0])\n",
    "        print(x_init)\n",
    "        self.w = pd.DataFrame(np.ones( ( x_init.shape[0],1)), columns=[\"W{}\".format(self.C)])\n",
    "        # initialize first class\n",
    "        self.w_labels[\"W{}\".format(self.C)] = np.squeeze(y[0])\n",
    "        print(self.w, self.w_labels, X)\n",
    "        for epoch in range(epochs):\n",
    "            for i in range(1,X.shape[1]):\n",
    "                # evaulate match criterion with choice function \n",
    "                # T_j is the array of activations\n",
    "                # vig is a  boolean array determining if the input satisfies the vigilence parameter\n",
    "                # indicies is the sorted array of indicies\n",
    "                # fuzzy int is the fuzzy intersection\n",
    "                #norm_w is the norm o the weight vectors \n",
    "                satisfied = False\n",
    "                # we will go until we are satisfied with a prediction \n",
    "                attempts = 0\n",
    "                self.rho = 0\n",
    "                A = self.complement_code(X[:,i].reshape(-1,1))\n",
    "                while not satisfied:\n",
    "                    attempts +=1\n",
    "                    print(\"Attempts: {}\".format(attempts))\n",
    "                    T_js, vig, indicies, fuzzy_int, norm_w = self.match_choice(A)\n",
    "                    \n",
    "                    look= True\n",
    "                    ind = -1\n",
    "                    while ind < len(list(indicies)) and look:\n",
    "                        ind +=1\n",
    "                        index = indicies[ind]\n",
    "                        if vig[index]:\n",
    "                            # we have satisfied the vigilence criterion \n",
    "                            pred = self.w_labels[\"W{}\".format(index)]\n",
    "                            if pred != y[i]:\n",
    "                                # Match tracking for incorrect predictions \n",
    "                                print(\"Wrong Prediction {}, for ground truth {}. Match tracking enabled.\".format(pred, y[i]))\n",
    "                                self.rho = (fuzzy_int[index]/ self.M) + self.epsilon\n",
    "                                look=False\n",
    "                                # we are still not satisfied \n",
    "                            else: \n",
    "                                # Resonance enabled \n",
    "                                print(\" Prediction {}, for ground truth {}. Resonance enabled.\".format(pred, y[i]))\n",
    "                                w_old = self.w[\"W{}\".format(index)].reshape(-1,1)\n",
    "                                print(\"DEBUG:\",A.shape, w_old.shape )\n",
    "                                new_comp =   np.minimum(A, w_old)\n",
    "                                self.w[\"W{}\".format(index)] = self.beta * ( new_comp) + (1- self.beta)*w_old\n",
    "                                look = False\n",
    "                                satisfied = True\n",
    "                                print(\"Updated weight  \", self.w[\"W{}\".format(index)])\n",
    "                        if ind == len(list(indicies)) -1 and look: \n",
    "                            print(\"No node found that satisfies Vigilence criterion. Creating a new node\")\n",
    "                            self.add_category(A, y[i])\n",
    "                            satisfied=True\n",
    "                            look=False\n",
    "                            continue\n",
    "                            \n",
    "                                \n",
    "                \n",
    "                \n",
    "                \n",
    "    def bulk_predict(self, X):\n",
    "        rets = []\n",
    "        for i in range(X.shape[1]):\n",
    "            A = self.complement_code(X[:,i].reshape(-1,1))\n",
    "            rets +=[self.predict(A)]\n",
    "        return np.array(rets)\n",
    "            \n",
    "    def predict(self, x):\n",
    "        norm_w =  np.linalg.norm( self.w, ord=1, axis=0)\n",
    "        fuzzy_int = np.minimum(x,self.w)\n",
    "        fuzzy_int = np.linalg.norm( fuzzy_int, ord=1, axis=0)\n",
    "        # all values of T_j for j=1,...,C\n",
    "        T_js = fuzzy_int + (1 - self.alpha)*(self.M * norm_w)\n",
    "        weight_index = np.argmax(   T_js )\n",
    "        return self.w_labels[\"W{}\".format(weight_index)]\n",
    "        \n",
    "        \n",
    "        "
   ]
  },
  {
   "cell_type": "code",
   "execution_count": 322,
   "metadata": {},
   "outputs": [],
   "source": [
    "net = FuzzyARTMAP()"
   ]
  },
  {
   "cell_type": "code",
   "execution_count": 323,
   "metadata": {},
   "outputs": [
    {
     "data": {
      "text/plain": [
       "array([[1],\n",
       "       [2],\n",
       "       [3],\n",
       "       [4]])"
      ]
     },
     "execution_count": 323,
     "metadata": {},
     "output_type": "execute_result"
    }
   ],
   "source": [
    "test "
   ]
  },
  {
   "cell_type": "code",
   "execution_count": 324,
   "metadata": {},
   "outputs": [
    {
     "name": "stdout",
     "output_type": "stream",
     "text": [
      "[[ 1.]\n",
      " [ 2.]\n",
      " [ 3.]\n",
      " [ 4.]\n",
      " [ 0.]\n",
      " [-1.]\n",
      " [-2.]\n",
      " [-3.]]\n",
      "    W0\n",
      "0  1.0\n",
      "1  1.0\n",
      "2  1.0\n",
      "3  1.0\n",
      "4  1.0\n",
      "5  1.0\n",
      "6  1.0\n",
      "7  1.0 {'W0': array(0)} [[1.  0.5]\n",
      " [2.  1.5]\n",
      " [3.  3.5]\n",
      " [4.  4.1]]\n",
      "Attempts: 1\n",
      " Prediction 0, for ground truth [0]. Resonance enabled.\n",
      "DEBUG: (8, 1) (8, 1)\n",
      "Updated weight   0    0.5\n",
      "1    1.0\n",
      "2    1.0\n",
      "3    1.0\n",
      "4    0.5\n",
      "5   -0.5\n",
      "6   -2.5\n",
      "7   -3.1\n",
      "Name: W0, dtype: float64\n"
     ]
    },
    {
     "name": "stderr",
     "output_type": "stream",
     "text": [
      "/Users/kbernardini/anaconda3/lib/python3.6/site-packages/ipykernel_launcher.py:96: FutureWarning: reshape is deprecated and will raise in a subsequent release. Please use .values.reshape(...) instead\n"
     ]
    }
   ],
   "source": [
    "net.train(t, np.array([[0], [0] ]))"
   ]
  },
  {
   "cell_type": "code",
   "execution_count": 325,
   "metadata": {},
   "outputs": [
    {
     "data": {
      "text/plain": [
       "{'W0': array(0)}"
      ]
     },
     "execution_count": 325,
     "metadata": {},
     "output_type": "execute_result"
    }
   ],
   "source": [
    "net.w_labels"
   ]
  },
  {
   "cell_type": "code",
   "execution_count": 326,
   "metadata": {},
   "outputs": [
    {
     "data": {
      "text/plain": [
       "array([[1.],\n",
       "       [2.],\n",
       "       [3.],\n",
       "       [4.]])"
      ]
     },
     "execution_count": 326,
     "metadata": {},
     "output_type": "execute_result"
    }
   ],
   "source": [
    "t[:,0].reshape(-1,1)"
   ]
  },
  {
   "cell_type": "code",
   "execution_count": 327,
   "metadata": {},
   "outputs": [],
   "source": [
    "# lets test out some values\n",
    "np.random.seed(69)\n",
    "X = np.random.rand( 30,2)"
   ]
  },
  {
   "cell_type": "code",
   "execution_count": 328,
   "metadata": {},
   "outputs": [
    {
     "data": {
      "text/plain": [
       "array([[0.29624916, 0.80906772],\n",
       "       [0.35025253, 0.78940926],\n",
       "       [0.56134898, 0.25358895],\n",
       "       [0.10497708, 0.05846073],\n",
       "       [0.67329238, 0.69782966],\n",
       "       [0.73278321, 0.78787406],\n",
       "       [0.07637632, 0.3176806 ],\n",
       "       [0.74102328, 0.32849423],\n",
       "       [0.47014548, 0.18108572],\n",
       "       [0.3235044 , 0.45490616],\n",
       "       [0.52963052, 0.29303055],\n",
       "       [0.27697515, 0.67815307],\n",
       "       [0.2334587 , 0.67725537],\n",
       "       [0.4323325 , 0.38766629],\n",
       "       [0.33544621, 0.51322212],\n",
       "       [0.98769111, 0.53091437],\n",
       "       [0.68043616, 0.39113473],\n",
       "       [0.1165562 , 0.70722573],\n",
       "       [0.41361609, 0.45603303],\n",
       "       [0.33195254, 0.09371524],\n",
       "       [0.4577167 , 0.80579291],\n",
       "       [0.19350921, 0.46502849],\n",
       "       [0.19091752, 0.07588166],\n",
       "       [0.03198771, 0.15245555],\n",
       "       [0.25709202, 0.06937377],\n",
       "       [0.92718944, 0.54662592],\n",
       "       [0.96729604, 0.89730852],\n",
       "       [0.39105022, 0.37876973],\n",
       "       [0.6515744 , 0.85627836],\n",
       "       [0.44305142, 0.53280211]])"
      ]
     },
     "execution_count": 328,
     "metadata": {},
     "output_type": "execute_result"
    }
   ],
   "source": [
    "X"
   ]
  },
  {
   "cell_type": "code",
   "execution_count": 329,
   "metadata": {},
   "outputs": [],
   "source": [
    "y = ((X[:,0] **2 + X[:,1] **2) <= .5 ).astype(int)"
   ]
  },
  {
   "cell_type": "code",
   "execution_count": 330,
   "metadata": {},
   "outputs": [
    {
     "data": {
      "text/plain": [
       "<matplotlib.collections.PathCollection at 0x113e57c50>"
      ]
     },
     "execution_count": 330,
     "metadata": {},
     "output_type": "execute_result"
    },
    {
     "data": {
      "image/png": "[encoded data removed]",
      "text/plain": [
       "<matplotlib.figure.Figure at 0x113a90ac8>"
      ]
     },
     "metadata": {},
     "output_type": "display_data"
    }
   ],
   "source": [
    "plt.scatter(X[:,0], X[:,1], c=y)"
   ]
  },
  {
   "cell_type": "code",
   "execution_count": 356,
   "metadata": {},
   "outputs": [
    {
     "name": "stdout",
     "output_type": "stream",
     "text": [
      "[[0.29624916]\n",
      " [0.80906772]\n",
      " [0.70375084]\n",
      " [0.19093228]]\n",
      "    W0\n",
      "0  1.0\n",
      "1  1.0\n",
      "2  1.0\n",
      "3  1.0 {'W0': 0} [[0.29624916 0.35025253 0.56134898 0.10497708 0.67329238 0.73278321\n",
      "  0.07637632 0.74102328 0.47014548 0.3235044  0.52963052 0.27697515\n",
      "  0.2334587  0.4323325  0.33544621 0.98769111 0.68043616 0.1165562\n",
      "  0.41361609 0.33195254 0.4577167  0.19350921 0.19091752 0.03198771\n",
      "  0.25709202 0.92718944 0.96729604 0.39105022 0.6515744  0.44305142]\n",
      " [0.80906772 0.78940926 0.25358895 0.05846073 0.69782966 0.78787406\n",
      "  0.3176806  0.32849423 0.18108572 0.45490616 0.29303055 0.67815307\n",
      "  0.67725537 0.38766629 0.51322212 0.53091437 0.39113473 0.70722573\n",
      "  0.45603303 0.09371524 0.80579291 0.46502849 0.07588166 0.15245555\n",
      "  0.06937377 0.54662592 0.89730852 0.37876973 0.85627836 0.53280211]]\n",
      "Attempts: 1\n",
      " Prediction 0, for ground truth 0. Resonance enabled.\n",
      "DEBUG: (4, 1) (4, 1)\n",
      "Updated weight   0    0.350253\n",
      "1    0.789409\n",
      "2    0.649747\n",
      "3    0.210591\n",
      "Name: W0, dtype: float64\n",
      "Attempts: 1\n",
      "Wrong Prediction 0, for ground truth 1. Match tracking enabled.\n",
      "Attempts: 2\n",
      "No node found that satisfies Vigilence criterion. Creating a new node\n",
      "Attempts: 1\n",
      " Prediction 1, for ground truth 1. Resonance enabled.\n",
      "DEBUG: (4, 1) (4, 1)\n",
      "Updated weight   0    0.104977\n",
      "1    0.058461\n",
      "2    0.438651\n",
      "3    0.746411\n",
      "Name: W1, dtype: float64\n",
      "Attempts: 1\n",
      " Prediction 0, for ground truth 0. Resonance enabled.\n",
      "DEBUG: (4, 1) (4, 1)\n",
      "Updated weight   0    0.350253\n",
      "1    0.697830\n",
      "2    0.326708\n",
      "3    0.210591\n",
      "Name: W0, dtype: float64\n",
      "Attempts: 1\n",
      " Prediction 0, for ground truth 0. Resonance enabled.\n",
      "DEBUG: (4, 1) (4, 1)\n",
      "Updated weight   0    0.350253\n",
      "1    0.697830\n",
      "2    0.267217\n",
      "3    0.210591\n",
      "Name: W0, dtype: float64\n",
      "Attempts: 1\n",
      " Prediction 1, for ground truth 1. Resonance enabled.\n",
      "DEBUG: (4, 1) (4, 1)\n",
      "Updated weight   0    0.076376\n",
      "1    0.058461\n",
      "2    0.438651\n",
      "3    0.682319\n",
      "Name: W1, dtype: float64\n",
      "Attempts: 1\n",
      " Prediction 0, for ground truth 0. Resonance enabled.\n",
      "DEBUG: (4, 1) (4, 1)\n",
      "Updated weight   0    0.350253\n",
      "1    0.328494\n",
      "2    0.258977\n",
      "3    0.210591\n",
      "Name: W0, dtype: float64\n",
      "Attempts: 1\n",
      " Prediction 1, for ground truth 1. Resonance enabled.\n",
      "DEBUG: (4, 1) (4, 1)\n",
      "Updated weight   0    0.076376\n",
      "1    0.058461\n",
      "2    0.438651\n",
      "3    0.682319\n",
      "Name: W1, dtype: float64\n",
      "Attempts: 1\n",
      " Prediction 1, for ground truth 1. Resonance enabled.\n",
      "DEBUG: (4, 1) (4, 1)\n",
      "Updated weight   0    0.076376\n",
      "1    0.058461\n",
      "2    0.438651\n",
      "3    0.545094\n",
      "Name: W1, dtype: float64\n",
      "Attempts: 1\n",
      "Wrong Prediction 0, for ground truth 1. Match tracking enabled.\n",
      "Attempts: 2\n",
      " Prediction 1, for ground truth 1. Resonance enabled.\n",
      "DEBUG: (4, 1) (4, 1)\n",
      "Updated weight   0    0.076376\n",
      "1    0.058461\n",
      "2    0.438651\n",
      "3    0.545094\n",
      "Name: W1, dtype: float64\n",
      "Attempts: 1\n",
      " Prediction 0, for ground truth 0. Resonance enabled.\n",
      "DEBUG: (4, 1) (4, 1)\n",
      "Updated weight   0    0.276975\n",
      "1    0.328494\n",
      "2    0.258977\n",
      "3    0.210591\n",
      "Name: W0, dtype: float64\n",
      "Attempts: 1\n",
      " Prediction 0, for ground truth 0. Resonance enabled.\n",
      "DEBUG: (4, 1) (4, 1)\n",
      "Updated weight   0    0.233459\n",
      "1    0.328494\n",
      "2    0.258977\n",
      "3    0.210591\n",
      "Name: W0, dtype: float64\n",
      "Attempts: 1\n",
      " Prediction 1, for ground truth 1. Resonance enabled.\n",
      "DEBUG: (4, 1) (4, 1)\n",
      "Updated weight   0    0.076376\n",
      "1    0.058461\n",
      "2    0.438651\n",
      "3    0.545094\n",
      "Name: W1, dtype: float64\n",
      "Attempts: 1\n",
      " Prediction 1, for ground truth 1. Resonance enabled.\n",
      "DEBUG: (4, 1) (4, 1)\n",
      "Updated weight   0    0.076376\n",
      "1    0.058461\n",
      "2    0.438651\n",
      "3    0.486778\n",
      "Name: W1, dtype: float64\n",
      "Attempts: 1\n",
      " Prediction 0, for ground truth 0. Resonance enabled.\n",
      "DEBUG: (4, 1) (4, 1)\n",
      "Updated weight   0    0.233459\n",
      "1    0.328494\n",
      "2    0.012309\n",
      "3    0.210591\n",
      "Name: W0, dtype: float64\n",
      "Attempts: 1\n",
      "Wrong Prediction 1, for ground truth 0. Match tracking enabled.\n",
      "Attempts: 2\n",
      "No node found that satisfies Vigilence criterion. Creating a new node\n",
      "Attempts: 1\n",
      " Prediction 0, for ground truth 0. Resonance enabled.\n",
      "DEBUG: (4, 1) (4, 1)\n",
      "Updated weight   0    0.116556\n",
      "1    0.391135\n",
      "2    0.319564\n",
      "3    0.292774\n",
      "Name: W2, dtype: float64\n",
      "Attempts: 1\n",
      "Wrong Prediction 0, for ground truth 1. Match tracking enabled.\n",
      "Attempts: 2\n",
      "No node found that satisfies Vigilence criterion. Creating a new node\n",
      "Attempts: 1\n",
      " Prediction 1, for ground truth 1. Resonance enabled.\n",
      "DEBUG: (4, 1) (4, 1)\n",
      "Updated weight   0    0.331953\n",
      "1    0.093715\n",
      "2    0.586384\n",
      "3    0.543967\n",
      "Name: W3, dtype: float64\n",
      "Attempts: 1\n",
      "Wrong Prediction 1, for ground truth 0. Match tracking enabled.\n",
      "Attempts: 2\n",
      "No node found that satisfies Vigilence criterion. Creating a new node\n",
      "Attempts: 1\n",
      "Wrong Prediction 0, for ground truth 1. Match tracking enabled.\n",
      "Attempts: 2\n",
      " Prediction 1, for ground truth 1. Resonance enabled.\n",
      "DEBUG: (4, 1) (4, 1)\n",
      "Updated weight   0    0.193509\n",
      "1    0.093715\n",
      "2    0.586384\n",
      "3    0.534972\n",
      "Name: W3, dtype: float64\n",
      "Attempts: 1\n",
      "Wrong Prediction 0, for ground truth 1. Match tracking enabled.\n",
      "Attempts: 2\n",
      " Prediction 1, for ground truth 1. Resonance enabled.\n",
      "DEBUG: (4, 1) (4, 1)\n",
      "Updated weight   0    0.190918\n",
      "1    0.075882\n",
      "2    0.586384\n",
      "3    0.534972\n",
      "Name: W3, dtype: float64\n",
      "Attempts: 1\n",
      "Wrong Prediction 0, for ground truth 1. Match tracking enabled.\n",
      "Attempts: 2\n",
      " Prediction 1, for ground truth 1. Resonance enabled.\n",
      "DEBUG: (4, 1) (4, 1)\n",
      "Updated weight   0    0.031988\n",
      "1    0.075882\n",
      "2    0.586384\n",
      "3    0.534972\n",
      "Name: W3, dtype: float64\n",
      "Attempts: 1\n",
      "Wrong Prediction 0, for ground truth 1. Match tracking enabled.\n",
      "Attempts: 2\n",
      " Prediction 1, for ground truth 1. Resonance enabled.\n",
      "DEBUG: (4, 1) (4, 1)\n",
      "Updated weight   0    0.031988\n",
      "1    0.069374\n",
      "2    0.586384\n",
      "3    0.534972\n",
      "Name: W3, dtype: float64\n",
      "Attempts: 1\n",
      " Prediction 0, for ground truth 0. Resonance enabled.\n",
      "DEBUG: (4, 1) (4, 1)\n",
      "Updated weight   0    0.457717\n",
      "1    0.546626\n",
      "2    0.072811\n",
      "3    0.194207\n",
      "Name: W4, dtype: float64\n",
      "Attempts: 1\n",
      " Prediction 0, for ground truth 0. Resonance enabled.\n",
      "DEBUG: (4, 1) (4, 1)\n",
      "Updated weight   0    0.457717\n",
      "1    0.546626\n",
      "2    0.032704\n",
      "3    0.102691\n",
      "Name: W4, dtype: float64\n",
      "Attempts: 1\n",
      " Prediction 1, for ground truth 1. Resonance enabled.\n",
      "DEBUG: (4, 1) (4, 1)\n",
      "Updated weight   0    0.031988\n",
      "1    0.069374\n",
      "2    0.586384\n",
      "3    0.534972\n",
      "Name: W3, dtype: float64\n",
      "Attempts: 1\n",
      " Prediction 0, for ground truth 0. Resonance enabled.\n",
      "DEBUG: (4, 1) (4, 1)\n",
      "Updated weight   0    0.457717\n",
      "1    0.546626\n",
      "2    0.032704\n",
      "3    0.102691\n",
      "Name: W4, dtype: float64\n",
      "Attempts: 1\n",
      " Prediction 1, for ground truth 1. Resonance enabled.\n",
      "DEBUG: (4, 1) (4, 1)\n",
      "Updated weight   0    0.031988\n",
      "1    0.069374\n",
      "2    0.556949\n",
      "3    0.467198\n",
      "Name: W3, dtype: float64\n",
      "Attempts: 1\n",
      " Prediction 0, for ground truth 0. Resonance enabled.\n",
      "DEBUG: (4, 1) (4, 1)\n",
      "Updated weight   0    0.350253\n",
      "1    0.546626\n",
      "2    0.032704\n",
      "3    0.102691\n",
      "Name: W4, dtype: float64\n",
      "Attempts: 1\n",
      " Prediction 1, for ground truth 1. Resonance enabled.\n",
      "DEBUG: (4, 1) (4, 1)\n",
      "Updated weight   0    0.031988\n",
      "1    0.069374\n",
      "2    0.438651\n",
      "3    0.467198\n",
      "Name: W3, dtype: float64\n",
      "Attempts: 1\n",
      " Prediction 1, for ground truth 1. Resonance enabled.\n",
      "DEBUG: (4, 1) (4, 1)\n",
      "Updated weight   0    0.076376\n",
      "1    0.058461\n",
      "2    0.438651\n",
      "3    0.486778\n",
      "Name: W1, dtype: float64\n",
      "Attempts: 1\n",
      " Prediction 0, for ground truth 0. Resonance enabled.\n",
      "DEBUG: (4, 1) (4, 1)\n",
      "Updated weight   0    0.116556\n",
      "1    0.391135\n",
      "2    0.319564\n",
      "3    0.292774\n",
      "Name: W2, dtype: float64\n",
      "Attempts: 1\n",
      " Prediction 0, for ground truth 0. Resonance enabled.\n",
      "DEBUG: (4, 1) (4, 1)\n",
      "Updated weight   0    0.116556\n",
      "1    0.391135\n",
      "2    0.267217\n",
      "3    0.212126\n",
      "Name: W2, dtype: float64\n",
      "Attempts: 1\n",
      " Prediction 1, for ground truth 1. Resonance enabled.\n",
      "DEBUG: (4, 1) (4, 1)\n",
      "Updated weight   0    0.076376\n",
      "1    0.058461\n",
      "2    0.438651\n",
      "3    0.486778\n",
      "Name: W1, dtype: float64\n",
      "Attempts: 1\n",
      "Wrong Prediction 1, for ground truth 0. Match tracking enabled.\n",
      "Attempts: 2\n",
      " Prediction 0, for ground truth 0. Resonance enabled.\n",
      "DEBUG: (4, 1) (4, 1)\n",
      "Updated weight   0    0.116556\n",
      "1    0.328494\n",
      "2    0.258977\n",
      "3    0.212126\n",
      "Name: W2, dtype: float64\n",
      "Attempts: 1\n",
      " Prediction 1, for ground truth 1. Resonance enabled.\n",
      "DEBUG: (4, 1) (4, 1)\n",
      "Updated weight   0    0.076376\n",
      "1    0.058461\n",
      "2    0.438651\n",
      "3    0.486778\n",
      "Name: W1, dtype: float64\n",
      "Attempts: 1\n",
      " Prediction 1, for ground truth 1. Resonance enabled.\n",
      "DEBUG: (4, 1) (4, 1)\n",
      "Updated weight   0    0.076376\n",
      "1    0.058461\n",
      "2    0.438651\n",
      "3    0.486778\n",
      "Name: W1, dtype: float64\n",
      "Attempts: 1\n",
      " Prediction 1, for ground truth 1. Resonance enabled.\n",
      "DEBUG: (4, 1) (4, 1)\n",
      "Updated weight   0    0.076376\n",
      "1    0.058461\n",
      "2    0.438651\n",
      "3    0.486778\n",
      "Name: W1, dtype: float64\n",
      "Attempts: 1\n",
      " Prediction 0, for ground truth 0. Resonance enabled.\n",
      "DEBUG: (4, 1) (4, 1)\n",
      "Updated weight   0    0.276975\n",
      "1    0.546626\n",
      "2    0.032704\n",
      "3    0.102691\n",
      "Name: W4, dtype: float64\n",
      "Attempts: 1\n",
      "Wrong Prediction 1, for ground truth 0. Match tracking enabled.\n",
      "Attempts: 2\n",
      " Prediction 0, for ground truth 0. Resonance enabled.\n",
      "DEBUG: (4, 1) (4, 1)\n",
      "Updated weight   0    0.233459\n",
      "1    0.546626\n",
      "2    0.032704\n",
      "3    0.102691\n",
      "Name: W4, dtype: float64\n",
      "Attempts: 1\n",
      " Prediction 1, for ground truth 1. Resonance enabled.\n",
      "DEBUG: (4, 1) (4, 1)\n",
      "Updated weight   0    0.076376\n",
      "1    0.058461\n",
      "2    0.438651\n",
      "3    0.486778\n",
      "Name: W1, dtype: float64\n",
      "Attempts: 1\n",
      " Prediction 1, for ground truth 1. Resonance enabled.\n",
      "DEBUG: (4, 1) (4, 1)\n",
      "Updated weight   0    0.076376\n",
      "1    0.058461\n",
      "2    0.438651\n",
      "3    0.486778\n",
      "Name: W1, dtype: float64\n",
      "Attempts: 1\n",
      "Wrong Prediction 1, for ground truth 0. Match tracking enabled.\n",
      "Attempts: 2\n",
      " Prediction 0, for ground truth 0. Resonance enabled.\n",
      "DEBUG: (4, 1) (4, 1)\n",
      "Updated weight   0    0.233459\n",
      "1    0.530914\n",
      "2    0.012309\n",
      "3    0.102691\n",
      "Name: W4, dtype: float64\n",
      "Attempts: 1\n",
      "Wrong Prediction 1, for ground truth 0. Match tracking enabled.\n",
      "Attempts: 2\n",
      "No node found that satisfies Vigilence criterion. Creating a new node\n",
      "Attempts: 1\n",
      " Prediction 0, for ground truth 0. Resonance enabled.\n",
      "DEBUG: (4, 1) (4, 1)\n",
      "Updated weight   0    0.116556\n",
      "1    0.391135\n",
      "2    0.319564\n",
      "3    0.292774\n",
      "Name: W5, dtype: float64\n",
      "Attempts: 1\n",
      "Wrong Prediction 0, for ground truth 1. Match tracking enabled.\n",
      "Attempts: 2\n",
      "No node found that satisfies Vigilence criterion. Creating a new node\n",
      "Attempts: 1\n",
      " Prediction 1, for ground truth 1. Resonance enabled.\n",
      "DEBUG: (4, 1) (4, 1)\n",
      "Updated weight   0    0.331953\n",
      "1    0.093715\n",
      "2    0.586384\n",
      "3    0.543967\n",
      "Name: W6, dtype: float64\n",
      "Attempts: 1\n",
      "Wrong Prediction 1, for ground truth 0. Match tracking enabled.\n",
      "Attempts: 2\n",
      "No node found that satisfies Vigilence criterion. Creating a new node\n",
      "Attempts: 1\n",
      "Wrong Prediction 0, for ground truth 1. Match tracking enabled.\n",
      "Attempts: 2\n",
      " Prediction 1, for ground truth 1. Resonance enabled.\n",
      "DEBUG: (4, 1) (4, 1)\n",
      "Updated weight   0    0.193509\n",
      "1    0.093715\n",
      "2    0.586384\n",
      "3    0.534972\n",
      "Name: W6, dtype: float64\n",
      "Attempts: 1\n",
      "Wrong Prediction 0, for ground truth 1. Match tracking enabled.\n",
      "Attempts: 2\n",
      " Prediction 1, for ground truth 1. Resonance enabled.\n",
      "DEBUG: (4, 1) (4, 1)\n",
      "Updated weight   0    0.190918\n",
      "1    0.075882\n",
      "2    0.586384\n",
      "3    0.534972\n",
      "Name: W6, dtype: float64\n",
      "Attempts: 1\n",
      "Wrong Prediction 0, for ground truth 1. Match tracking enabled.\n",
      "Attempts: 2\n",
      " Prediction 1, for ground truth 1. Resonance enabled.\n",
      "DEBUG: (4, 1) (4, 1)\n",
      "Updated weight   0    0.031988\n",
      "1    0.075882\n",
      "2    0.586384\n",
      "3    0.534972\n",
      "Name: W6, dtype: float64\n",
      "Attempts: 1\n",
      "Wrong Prediction 0, for ground truth 1. Match tracking enabled.\n",
      "Attempts: 2\n",
      " Prediction 1, for ground truth 1. Resonance enabled.\n",
      "DEBUG: (4, 1) (4, 1)\n",
      "Updated weight   0    0.031988\n",
      "1    0.069374\n",
      "2    0.586384\n",
      "3    0.534972\n",
      "Name: W6, dtype: float64\n",
      "Attempts: 1\n",
      " Prediction 0, for ground truth 0. Resonance enabled.\n",
      "DEBUG: (4, 1) (4, 1)\n",
      "Updated weight   0    0.457717\n",
      "1    0.546626\n",
      "2    0.072811\n",
      "3    0.194207\n",
      "Name: W7, dtype: float64\n",
      "Attempts: 1\n",
      " Prediction 0, for ground truth 0. Resonance enabled.\n",
      "DEBUG: (4, 1) (4, 1)\n",
      "Updated weight   0    0.457717\n",
      "1    0.546626\n",
      "2    0.032704\n",
      "3    0.102691\n",
      "Name: W7, dtype: float64\n",
      "Attempts: 1\n",
      " Prediction 1, for ground truth 1. Resonance enabled.\n",
      "DEBUG: (4, 1) (4, 1)\n",
      "Updated weight   0    0.031988\n",
      "1    0.069374\n",
      "2    0.586384\n",
      "3    0.534972\n",
      "Name: W6, dtype: float64\n",
      "Attempts: 1\n",
      " Prediction 0, for ground truth 0. Resonance enabled.\n",
      "DEBUG: (4, 1) (4, 1)\n",
      "Updated weight   0    0.457717\n",
      "1    0.546626\n",
      "2    0.032704\n",
      "3    0.102691\n",
      "Name: W7, dtype: float64\n",
      "Attempts: 1\n",
      " Prediction 1, for ground truth 1. Resonance enabled.\n",
      "DEBUG: (4, 1) (4, 1)\n",
      "Updated weight   0    0.031988\n",
      "1    0.069374\n",
      "2    0.556949\n",
      "3    0.467198\n",
      "Name: W6, dtype: float64\n"
     ]
    },
    {
     "name": "stderr",
     "output_type": "stream",
     "text": [
      "/Users/kbernardini/anaconda3/lib/python3.6/site-packages/ipykernel_launcher.py:96: FutureWarning: reshape is deprecated and will raise in a subsequent release. Please use .values.reshape(...) instead\n"
     ]
    }
   ],
   "source": [
    "net = FuzzyARTMAP()\n",
    "net.train(X.T,y, epochs=2)"
   ]
  },
  {
   "cell_type": "code",
   "execution_count": 357,
   "metadata": {},
   "outputs": [
    {
     "data": {
      "text/plain": [
       "(         W0        W1        W2        W3        W4        W5        W6  \\\n",
       " 0  0.233459  0.076376  0.116556  0.031988  0.233459  0.116556  0.031988   \n",
       " 1  0.328494  0.058461  0.328494  0.069374  0.530914  0.391135  0.069374   \n",
       " 2  0.012309  0.438651  0.258977  0.438651  0.012309  0.319564  0.556949   \n",
       " 3  0.210591  0.486778  0.212126  0.467198  0.102691  0.292774  0.467198   \n",
       " \n",
       "          W7  \n",
       " 0  0.457717  \n",
       " 1  0.546626  \n",
       " 2  0.032704  \n",
       " 3  0.102691  ,\n",
       " {'W0': 0, 'W1': 1, 'W2': 0, 'W3': 1, 'W4': 0, 'W5': 0, 'W6': 1, 'W7': 0})"
      ]
     },
     "execution_count": 357,
     "metadata": {},
     "output_type": "execute_result"
    }
   ],
   "source": [
    "net.w, net.w_labels"
   ]
  },
  {
   "cell_type": "code",
   "execution_count": 358,
   "metadata": {},
   "outputs": [
    {
     "name": "stdout",
     "output_type": "stream",
     "text": [
      "Done\n"
     ]
    }
   ],
   "source": [
    "print(\"Done\")"
   ]
  },
  {
   "cell_type": "code",
   "execution_count": 361,
   "metadata": {},
   "outputs": [],
   "source": [
    "preds = net.bulk_predict(X.T)"
   ]
  },
  {
   "cell_type": "code",
   "execution_count": 362,
   "metadata": {},
   "outputs": [
    {
     "data": {
      "text/plain": [
       "array([0, 0, 1, 1, 0, 0, 1, 0, 1, 1, 1, 0, 0, 1, 1, 0, 0, 0, 1, 1, 0, 1,\n",
       "       1, 1, 1, 0, 0, 1, 0, 1])"
      ]
     },
     "execution_count": 362,
     "metadata": {},
     "output_type": "execute_result"
    }
   ],
   "source": [
    "y"
   ]
  },
  {
   "cell_type": "code",
   "execution_count": 363,
   "metadata": {},
   "outputs": [
    {
     "data": {
      "text/plain": [
       "array([0, 0, 0, 0, 0, 0, 0, 0, 0, 0, 0, 0, 0, 0, 0, 0, 0, 0, 0, 0, 0, 0,\n",
       "       0, 0, 0, 0, 0, 0, 0, 1])"
      ]
     },
     "execution_count": 363,
     "metadata": {},
     "output_type": "execute_result"
    }
   ],
   "source": [
    "preds ^ y"
   ]
  },
  {
   "cell_type": "code",
   "execution_count": null,
   "metadata": {},
   "outputs": [],
   "source": []
  }
 ],
 "metadata": {
  "kernelspec": {
   "display_name": "Python 3",
   "language": "python",
   "name": "python3"
  },
  "language_info": {
   "codemirror_mode": {
    "name": "ipython",
    "version": 3
   },
   "file_extension": ".py",
   "mimetype": "text/x-python",
   "name": "python",
   "nbconvert_exporter": "python",
   "pygments_lexer": "ipython3",
   "version": "3.6.3"
  }
 },
 "nbformat": 4,
 "nbformat_minor": 2
}
